{
 "cells": [
  {
   "cell_type": "code",
   "execution_count": 10,
   "metadata": {},
   "outputs": [],
   "source": [
    "import re\n",
    "import string\n",
    "import numpy as np "
   ]
  },
  {
   "cell_type": "code",
   "execution_count": 2,
   "metadata": {},
   "outputs": [],
   "source": [
    "def read_and_clean(doc1,doc2):\n",
    "    clean_doc1 = ''\n",
    "    clean_doc2 = ''\n",
    "    \n",
    "    with open(doc1,'r+') as d1:\n",
    "        content = d1.read()\n",
    "        clean_doc1 = re.sub('[^A-Za-z0-9 ]+', '', content)\n",
    "    with open(doc2,'r+') as d2:\n",
    "        content = d2.read()\n",
    "        clean_doc2 = re.sub('[^A-Za-z0-9 ]+', '', content)\n",
    "    return clean_doc1,clean_doc2"
   ]
  },
  {
   "cell_type": "code",
   "execution_count": 3,
   "metadata": {},
   "outputs": [],
   "source": [
    "doc1,doc2 = read_and_clean('doc1.txt','doc2.txt')"
   ]
  },
  {
   "cell_type": "code",
   "execution_count": 4,
   "metadata": {},
   "outputs": [],
   "source": [
    "def generate_vocab(doc1,doc2):\n",
    "    vocab = []\n",
    "    for word in doc1.split():\n",
    "        if word not in vocab:\n",
    "            vocab.append(word)\n",
    "    for word in doc2.split():\n",
    "        if word not in vocab:\n",
    "            vocab.append(word)\n",
    "    return vocab"
   ]
  },
  {
   "cell_type": "code",
   "execution_count": 5,
   "metadata": {},
   "outputs": [],
   "source": [
    "vocab = generate_vocab(doc1,doc2)"
   ]
  },
  {
   "cell_type": "code",
   "execution_count": 6,
   "metadata": {},
   "outputs": [],
   "source": [
    "def generate_hist(doc1,doc2,vocab):\n",
    "    H1 = []\n",
    "    H2 = []\n",
    "    for word in vocab:\n",
    "        count = 0\n",
    "        for x in doc1.split():\n",
    "            if x==word:\n",
    "                count+=1\n",
    "        H1.append(count)\n",
    "    for word in vocab:\n",
    "        count = 0\n",
    "        for x in doc2.split():\n",
    "            if x==word:\n",
    "                count+=1\n",
    "        H2.append(count)\n",
    "    return np.array(H1),np.array(H2)"
   ]
  },
  {
   "cell_type": "code",
   "execution_count": 7,
   "metadata": {},
   "outputs": [],
   "source": [
    "H1,H2 = generate_hist(doc1,doc2,vocab)"
   ]
  },
  {
   "cell_type": "code",
   "execution_count": 8,
   "metadata": {},
   "outputs": [],
   "source": [
    "def cosine_distance(H1,H2):\n",
    "    return 1 - (np.dot(H1,H2)/(np.linalg.norm(H1)*(np.linalg.norm(H2))))"
   ]
  },
  {
   "cell_type": "code",
   "execution_count": 9,
   "metadata": {},
   "outputs": [
    {
     "name": "stdout",
     "output_type": "stream",
     "text": [
      "0.7098283539013774\n"
     ]
    }
   ],
   "source": [
    "print(cosine_distance(H1,H2))"
   ]
  }
 ],
 "metadata": {
  "kernelspec": {
   "display_name": "Python 3",
   "language": "python",
   "name": "python3"
  },
  "language_info": {
   "codemirror_mode": {
    "name": "ipython",
    "version": 3
   },
   "file_extension": ".py",
   "mimetype": "text/x-python",
   "name": "python",
   "nbconvert_exporter": "python",
   "pygments_lexer": "ipython3",
   "version": "3.8.3"
  }
 },
 "nbformat": 4,
 "nbformat_minor": 4
}
