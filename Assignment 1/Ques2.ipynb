{
 "cells": [
  {
   "cell_type": "code",
   "execution_count": 1,
   "metadata": {},
   "outputs": [],
   "source": [
    "# Import the Dependencies\n",
    "import numpy as np "
   ]
  },
  {
   "cell_type": "code",
   "execution_count": 5,
   "metadata": {},
   "outputs": [],
   "source": [
    "# Let V represent (hq-ht)T\n",
    "\n",
    "V = np.array([0.5, 0.5, -0.5, -0.25, -0.25])\n",
    "\n",
    "A = np.array([[1,0.135,0.195,0.137,0.157],\n",
    "             [0.135,1,0.2,0.309,0.143],\n",
    "             [0.195,0.2,1,0.157,0.122],\n",
    "             [0.137,0.309,0.157,1,0.195],\n",
    "             [0.157,0.143,0.122,0.195,1]])"
   ]
  },
  {
   "cell_type": "code",
   "execution_count": 8,
   "metadata": {},
   "outputs": [],
   "source": [
    "def QuadraticFormDistance(V,A):\n",
    "    return np.matmul(V,np.matmul(A,V.T))"
   ]
  },
  {
   "cell_type": "code",
   "execution_count": 9,
   "metadata": {},
   "outputs": [
    {
     "name": "stdout",
     "output_type": "stream",
     "text": [
      "0.6526249999999999\n"
     ]
    }
   ],
   "source": [
    "print(QuadraticFormDistance(V,A))"
   ]
  }
 ],
 "metadata": {
  "kernelspec": {
   "display_name": "Python 3",
   "language": "python",
   "name": "python3"
  },
  "language_info": {
   "codemirror_mode": {
    "name": "ipython",
    "version": 3
   },
   "file_extension": ".py",
   "mimetype": "text/x-python",
   "name": "python",
   "nbconvert_exporter": "python",
   "pygments_lexer": "ipython3",
   "version": "3.8.3"
  }
 },
 "nbformat": 4,
 "nbformat_minor": 4
}
