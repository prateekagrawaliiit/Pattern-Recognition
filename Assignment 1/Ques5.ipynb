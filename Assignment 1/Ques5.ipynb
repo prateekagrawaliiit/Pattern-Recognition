{
 "cells": [
  {
   "cell_type": "code",
   "execution_count": 20,
   "metadata": {},
   "outputs": [],
   "source": [
    "import numpy as np \n",
    "from PIL import Image \n",
    "from math import log2"
   ]
  },
  {
   "cell_type": "code",
   "execution_count": 2,
   "metadata": {},
   "outputs": [
    {
     "data": {
      "text/plain": [
       "(245760,)"
      ]
     },
     "execution_count": 2,
     "metadata": {},
     "output_type": "execute_result"
    }
   ],
   "source": [
    "ref1 = Image.open('Reference_image1.jpg')\n",
    "array1 = np.asarray(ref1)\n",
    "flat_array_1 = array1.flatten()\n",
    "flat_array_1.shape"
   ]
  },
  {
   "cell_type": "code",
   "execution_count": 5,
   "metadata": {},
   "outputs": [
    {
     "data": {
      "text/plain": [
       "(248832,)"
      ]
     },
     "execution_count": 5,
     "metadata": {},
     "output_type": "execute_result"
    }
   ],
   "source": [
    "ref2 = Image.open('Reference_image2.jpg')\n",
    "array2 = np.asarray(ref2)\n",
    "flat_array_2 = array2.flatten()\n",
    "flat_array_2.shape"
   ]
  },
  {
   "cell_type": "code",
   "execution_count": null,
   "metadata": {},
   "outputs": [],
   "source": [
    "query_img = Image.open('Query_image.jpg')\n",
    "query_array = np.asarray(query_img)\n",
    "flat_query_arr = query_array.flatten()\n",
    "flat_query_arr.shape"
   ]
  },
  {
   "cell_type": "code",
   "execution_count": 12,
   "metadata": {},
   "outputs": [],
   "source": [
    "RH1 = Counter(flat_array_1)\n",
    "RH2 = Counter(flat_array_2)\n",
    "QH = Counter(flat_query_arr)"
   ]
  },
  {
   "cell_type": "code",
   "execution_count": 14,
   "metadata": {},
   "outputs": [],
   "source": [
    "H1,H2,H3 = [],[],[]\n",
    "for i in range(256):\n",
    "    if i in RH1.keys():\n",
    "        H1.append(RH1[i])\n",
    "    else:\n",
    "        H1.append(0)\n",
    "    if i in RH2.keys():\n",
    "        H2.append(RH2[i])\n",
    "    else:\n",
    "        H2.append(0)\n",
    "    if i in QH.keys():\n",
    "        H3.append(QH[i])\n",
    "    else:\n",
    "        H3.append(0)"
   ]
  },
  {
   "cell_type": "code",
   "execution_count": 15,
   "metadata": {},
   "outputs": [
    {
     "data": {
      "text/plain": [
       "(256, 256, 256)"
      ]
     },
     "execution_count": 15,
     "metadata": {},
     "output_type": "execute_result"
    }
   ],
   "source": [
    "len(H1),len(H2),len(H3)"
   ]
  },
  {
   "cell_type": "code",
   "execution_count": 24,
   "metadata": {},
   "outputs": [],
   "source": [
    "def BhattacharyaDistance(H1,H2):\n",
    "    distance =0\n",
    "    for i in range(len(H1)):\n",
    "        distance += np.sqrt(H1[i]*H2[i])\n",
    "    return -1 * log2(distance)"
   ]
  },
  {
   "cell_type": "code",
   "execution_count": 25,
   "metadata": {},
   "outputs": [
    {
     "name": "stdout",
     "output_type": "stream",
     "text": [
      "-17.84883200645645\n",
      "-17.158305707223604\n"
     ]
    }
   ],
   "source": [
    "print(BhattacharyaDistance(H1,H3))\n",
    "print(BhattacharyaDistance(H2,H3))"
   ]
  },
  {
   "cell_type": "code",
   "execution_count": 27,
   "metadata": {},
   "outputs": [],
   "source": [
    "def cosine_distance(H1,H2):\n",
    "    return 1 - (np.dot(H1,H2)/(np.linalg.norm(H1)*(np.linalg.norm(H2))))"
   ]
  },
  {
   "cell_type": "code",
   "execution_count": 28,
   "metadata": {},
   "outputs": [
    {
     "name": "stdout",
     "output_type": "stream",
     "text": [
      "0.000766863094239234\n",
      "0.9530868872541659\n"
     ]
    }
   ],
   "source": [
    "print(cosine_distance(H1,H3))\n",
    "print(cosine_distance(H2,H3))"
   ]
  },
  {
   "cell_type": "code",
   "execution_count": 29,
   "metadata": {},
   "outputs": [
    {
     "name": "stdout",
     "output_type": "stream",
     "text": [
      "0.9774695692424857\n"
     ]
    }
   ],
   "source": [
    "print(cosine_distance(H1,H2))\n",
    "# print(cosine_distance(H2,H3))"
   ]
  },
  {
   "cell_type": "code",
   "execution_count": null,
   "metadata": {},
   "outputs": [],
   "source": []
  }
 ],
 "metadata": {
  "kernelspec": {
   "display_name": "Python 3",
   "language": "python",
   "name": "python3"
  },
  "language_info": {
   "codemirror_mode": {
    "name": "ipython",
    "version": 3
   },
   "file_extension": ".py",
   "mimetype": "text/x-python",
   "name": "python",
   "nbconvert_exporter": "python",
   "pygments_lexer": "ipython3",
   "version": "3.8.3"
  }
 },
 "nbformat": 4,
 "nbformat_minor": 4
}
